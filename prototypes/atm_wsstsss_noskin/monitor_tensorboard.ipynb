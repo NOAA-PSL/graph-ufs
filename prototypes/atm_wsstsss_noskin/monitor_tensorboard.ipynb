{
 "cells": [
  {
   "cell_type": "markdown",
   "id": "c4292b0d-4b2a-4633-8443-cb08c11ef641",
   "metadata": {},
   "source": [
    "# TensorBoard Launcher\n",
    "\n",
    "This notebook allows you to start TensorBoard on Perlmutter and view it in a normal browser tab.\n",
    "\n",
    "When you run the cells below, TensorBoard will start but will not display here in the notebook. Instead, the final cell which calls `nersc_tensorboard_helper.tb_address()` will display a URL that you can click to open a new tab with TensorBoard."
   ]
  },
  {
   "cell_type": "code",
   "execution_count": 1,
   "id": "5a6c6b72-ddd8-4828-adf2-cce021e2a60c",
   "metadata": {},
   "outputs": [],
   "source": [
    "import os\n",
    "import nersc_tensorboard_helper\n",
    "\n",
    "%load_ext tensorboard"
   ]
  },
  {
   "cell_type": "code",
   "execution_count": 9,
   "id": "dc9606ea-a4c8-47ef-aeec-3330f7df6690",
   "metadata": {},
   "outputs": [],
   "source": [
    "_run = \"R0\"\n",
    "log_dir = os.path.expandvars(f\"$SCRATCH/atm-wsstsss-noskin/{_run}/logs/training\")"
   ]
  },
  {
   "cell_type": "code",
   "execution_count": 12,
   "id": "fa8bcefc-214d-4bd4-9590-8f952a00afad",
   "metadata": {},
   "outputs": [
    {
     "data": {
      "text/plain": [
       "'/pscratch/sd/n/nagarwal/atm-wsstsss-noskin/R0/logs/training'"
      ]
     },
     "execution_count": 12,
     "metadata": {},
     "output_type": "execute_result"
    }
   ],
   "source": [
    "log_dir"
   ]
  },
  {
   "cell_type": "code",
   "execution_count": 10,
   "id": "e1a44ff4-6b76-4358-bc8c-b7e2f661cb5f",
   "metadata": {},
   "outputs": [],
   "source": [
    "%%capture\n",
    "%tensorboard --logdir $log_dir --port 0"
   ]
  },
  {
   "cell_type": "code",
   "execution_count": 11,
   "id": "ef61dbbe-09ce-43f0-9c10-a661b9148d80",
   "metadata": {},
   "outputs": [
    {
     "data": {
      "text/html": [
       "<a href=\"https://jupyter.nersc.gov/user/nagarwal/perlmutter-exclusive-node-cpu/proxy/41107/\">https://jupyter.nersc.gov/user/nagarwal/perlmutter-exclusive-node-cpu/proxy/41107/</a>"
      ],
      "text/plain": [
       "<IPython.core.display.HTML object>"
      ]
     },
     "metadata": {},
     "output_type": "display_data"
    }
   ],
   "source": [
    "nersc_tensorboard_helper.tb_address()"
   ]
  }
 ],
 "metadata": {
  "kernelspec": {
   "display_name": "Python (graphufs-mpi)",
   "language": "python",
   "name": "graphufs-mpi"
  },
  "language_info": {
   "codemirror_mode": {
    "name": "ipython",
    "version": 3
   },
   "file_extension": ".py",
   "mimetype": "text/x-python",
   "name": "python",
   "nbconvert_exporter": "python",
   "pygments_lexer": "ipython3",
   "version": "3.11.11"
  }
 },
 "nbformat": 4,
 "nbformat_minor": 5
}
