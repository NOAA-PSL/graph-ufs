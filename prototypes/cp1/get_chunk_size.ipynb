{
 "cells": [
  {
   "cell_type": "code",
   "execution_count": 1,
   "id": "ca98e997-2894-44b8-a65f-fe74e7d75176",
   "metadata": {
    "tags": []
   },
   "outputs": [],
   "source": [
    "from config import CP1Emulator\n",
    "from graphufs.datasets import Dataset"
   ]
  },
  {
   "cell_type": "code",
   "execution_count": 2,
   "id": "9a9f5317-c1f7-4324-98c3-bed83d508817",
   "metadata": {
    "tags": []
   },
   "outputs": [
    {
     "name": "stderr",
     "output_type": "stream",
     "text": [
      "_request out of retries on exception: Cannot connect to host storage.googleapis.com:443 ssl:True [SSLCertVerificationError: (1, '[SSL: CERTIFICATE_VERIFY_FAILED] certificate verify failed: unable to get local issuer certificate (_ssl.c:1006)')]\n",
      "Traceback (most recent call last):\n",
      "  File \"/global/homes/n/nagarwal/.conda/envs/graphufs-mpi/lib/python3.11/site-packages/aiohttp/connector.py\", line 1122, in _wrap_create_connection\n",
      "    return await self._loop.create_connection(*args, **kwargs, sock=sock)\n",
      "           ^^^^^^^^^^^^^^^^^^^^^^^^^^^^^^^^^^^^^^^^^^^^^^^^^^^^^^^^^^^^^^\n",
      "  File \"/global/homes/n/nagarwal/.conda/envs/graphufs-mpi/lib/python3.11/asyncio/base_events.py\", line 1113, in create_connection\n",
      "    transport, protocol = await self._create_connection_transport(\n",
      "                          ^^^^^^^^^^^^^^^^^^^^^^^^^^^^^^^^^^^^^^^^\n",
      "  File \"/global/homes/n/nagarwal/.conda/envs/graphufs-mpi/lib/python3.11/asyncio/base_events.py\", line 1146, in _create_connection_transport\n",
      "    await waiter\n",
      "  File \"/global/homes/n/nagarwal/.conda/envs/graphufs-mpi/lib/python3.11/asyncio/sslproto.py\", line 578, in _on_handshake_complete\n",
      "    raise handshake_exc\n",
      "  File \"/global/homes/n/nagarwal/.conda/envs/graphufs-mpi/lib/python3.11/asyncio/sslproto.py\", line 560, in _do_handshake\n",
      "    self._sslobj.do_handshake()\n",
      "  File \"/global/homes/n/nagarwal/.conda/envs/graphufs-mpi/lib/python3.11/ssl.py\", line 979, in do_handshake\n",
      "    self._sslobj.do_handshake()\n",
      "ssl.SSLCertVerificationError: [SSL: CERTIFICATE_VERIFY_FAILED] certificate verify failed: unable to get local issuer certificate (_ssl.c:1006)\n",
      "\n",
      "The above exception was the direct cause of the following exception:\n",
      "\n",
      "Traceback (most recent call last):\n",
      "  File \"/global/homes/n/nagarwal/.conda/envs/graphufs-mpi/lib/python3.11/site-packages/gcsfs/retry.py\", line 132, in retry_request\n",
      "    return await func(*args, **kwargs)\n",
      "           ^^^^^^^^^^^^^^^^^^^^^^^^^^^\n",
      "  File \"/global/homes/n/nagarwal/.conda/envs/graphufs-mpi/lib/python3.11/site-packages/gcsfs/core.py\", line 437, in _request\n",
      "    async with self.session.request(\n",
      "  File \"/global/homes/n/nagarwal/.conda/envs/graphufs-mpi/lib/python3.11/site-packages/aiohttp/client.py\", line 1425, in __aenter__\n",
      "    self._resp: _RetType = await self._coro\n",
      "                           ^^^^^^^^^^^^^^^^\n",
      "  File \"/global/homes/n/nagarwal/.conda/envs/graphufs-mpi/lib/python3.11/site-packages/aiohttp/client.py\", line 703, in _request\n",
      "    conn = await self._connector.connect(\n",
      "           ^^^^^^^^^^^^^^^^^^^^^^^^^^^^^^\n",
      "  File \"/global/homes/n/nagarwal/.conda/envs/graphufs-mpi/lib/python3.11/site-packages/aiohttp/connector.py\", line 548, in connect\n",
      "    proto = await self._create_connection(req, traces, timeout)\n",
      "            ^^^^^^^^^^^^^^^^^^^^^^^^^^^^^^^^^^^^^^^^^^^^^^^^^^^\n",
      "  File \"/global/homes/n/nagarwal/.conda/envs/graphufs-mpi/lib/python3.11/site-packages/aiohttp/connector.py\", line 1056, in _create_connection\n",
      "    _, proto = await self._create_direct_connection(req, traces, timeout)\n",
      "               ^^^^^^^^^^^^^^^^^^^^^^^^^^^^^^^^^^^^^^^^^^^^^^^^^^^^^^^^^^\n",
      "  File \"/global/homes/n/nagarwal/.conda/envs/graphufs-mpi/lib/python3.11/site-packages/aiohttp/connector.py\", line 1400, in _create_direct_connection\n",
      "    raise last_exc\n",
      "  File \"/global/homes/n/nagarwal/.conda/envs/graphufs-mpi/lib/python3.11/site-packages/aiohttp/connector.py\", line 1369, in _create_direct_connection\n",
      "    transp, proto = await self._wrap_create_connection(\n",
      "                    ^^^^^^^^^^^^^^^^^^^^^^^^^^^^^^^^^^^\n",
      "  File \"/global/homes/n/nagarwal/.conda/envs/graphufs-mpi/lib/python3.11/site-packages/aiohttp/connector.py\", line 1124, in _wrap_create_connection\n",
      "    raise ClientConnectorCertificateError(req.connection_key, exc) from exc\n",
      "aiohttp.client_exceptions.ClientConnectorCertificateError: Cannot connect to host storage.googleapis.com:443 ssl:True [SSLCertVerificationError: (1, '[SSL: CERTIFICATE_VERIFY_FAILED] certificate verify failed: unable to get local issuer certificate (_ssl.c:1006)')]\n",
      "\n",
      "KeyboardInterrupt\n",
      "\n",
      "_request out of retries on exception: Cannot connect to host storage.googleapis.com:443 ssl:True [SSLCertVerificationError: (1, '[SSL: CERTIFICATE_VERIFY_FAILED] certificate verify failed: unable to get local issuer certificate (_ssl.c:1006)')]\n",
      "Traceback (most recent call last):\n",
      "  File \"/global/homes/n/nagarwal/.conda/envs/graphufs-mpi/lib/python3.11/site-packages/aiohttp/connector.py\", line 1122, in _wrap_create_connection\n",
      "    return await self._loop.create_connection(*args, **kwargs, sock=sock)\n",
      "           ^^^^^^^^^^^^^^^^^^^^^^^^^^^^^^^^^^^^^^^^^^^^^^^^^^^^^^^^^^^^^^\n",
      "  File \"/global/homes/n/nagarwal/.conda/envs/graphufs-mpi/lib/python3.11/asyncio/base_events.py\", line 1113, in create_connection\n",
      "    transport, protocol = await self._create_connection_transport(\n",
      "                          ^^^^^^^^^^^^^^^^^^^^^^^^^^^^^^^^^^^^^^^^\n",
      "  File \"/global/homes/n/nagarwal/.conda/envs/graphufs-mpi/lib/python3.11/asyncio/base_events.py\", line 1146, in _create_connection_transport\n",
      "    await waiter\n",
      "  File \"/global/homes/n/nagarwal/.conda/envs/graphufs-mpi/lib/python3.11/asyncio/sslproto.py\", line 578, in _on_handshake_complete\n",
      "    raise handshake_exc\n",
      "  File \"/global/homes/n/nagarwal/.conda/envs/graphufs-mpi/lib/python3.11/asyncio/sslproto.py\", line 560, in _do_handshake\n",
      "    self._sslobj.do_handshake()\n",
      "  File \"/global/homes/n/nagarwal/.conda/envs/graphufs-mpi/lib/python3.11/ssl.py\", line 979, in do_handshake\n",
      "    self._sslobj.do_handshake()\n",
      "ssl.SSLCertVerificationError: [SSL: CERTIFICATE_VERIFY_FAILED] certificate verify failed: unable to get local issuer certificate (_ssl.c:1006)\n",
      "\n",
      "The above exception was the direct cause of the following exception:\n",
      "\n",
      "Traceback (most recent call last):\n",
      "  File \"/global/homes/n/nagarwal/.conda/envs/graphufs-mpi/lib/python3.11/site-packages/gcsfs/retry.py\", line 132, in retry_request\n",
      "    return await func(*args, **kwargs)\n",
      "           ^^^^^^^^^^^^^^^^^^^^^^^^^^^\n",
      "  File \"/global/homes/n/nagarwal/.conda/envs/graphufs-mpi/lib/python3.11/site-packages/gcsfs/core.py\", line 437, in _request\n",
      "    async with self.session.request(\n",
      "  File \"/global/homes/n/nagarwal/.conda/envs/graphufs-mpi/lib/python3.11/site-packages/aiohttp/client.py\", line 1425, in __aenter__\n",
      "    self._resp: _RetType = await self._coro\n",
      "                           ^^^^^^^^^^^^^^^^\n",
      "  File \"/global/homes/n/nagarwal/.conda/envs/graphufs-mpi/lib/python3.11/site-packages/aiohttp/client.py\", line 703, in _request\n",
      "    conn = await self._connector.connect(\n",
      "           ^^^^^^^^^^^^^^^^^^^^^^^^^^^^^^\n",
      "  File \"/global/homes/n/nagarwal/.conda/envs/graphufs-mpi/lib/python3.11/site-packages/aiohttp/connector.py\", line 548, in connect\n",
      "    proto = await self._create_connection(req, traces, timeout)\n",
      "            ^^^^^^^^^^^^^^^^^^^^^^^^^^^^^^^^^^^^^^^^^^^^^^^^^^^\n",
      "  File \"/global/homes/n/nagarwal/.conda/envs/graphufs-mpi/lib/python3.11/site-packages/aiohttp/connector.py\", line 1056, in _create_connection\n",
      "    _, proto = await self._create_direct_connection(req, traces, timeout)\n",
      "               ^^^^^^^^^^^^^^^^^^^^^^^^^^^^^^^^^^^^^^^^^^^^^^^^^^^^^^^^^^\n",
      "  File \"/global/homes/n/nagarwal/.conda/envs/graphufs-mpi/lib/python3.11/site-packages/aiohttp/connector.py\", line 1400, in _create_direct_connection\n",
      "    raise last_exc\n",
      "  File \"/global/homes/n/nagarwal/.conda/envs/graphufs-mpi/lib/python3.11/site-packages/aiohttp/connector.py\", line 1369, in _create_direct_connection\n",
      "    transp, proto = await self._wrap_create_connection(\n",
      "                    ^^^^^^^^^^^^^^^^^^^^^^^^^^^^^^^^^^^\n",
      "  File \"/global/homes/n/nagarwal/.conda/envs/graphufs-mpi/lib/python3.11/site-packages/aiohttp/connector.py\", line 1124, in _wrap_create_connection\n",
      "    raise ClientConnectorCertificateError(req.connection_key, exc) from exc\n",
      "aiohttp.client_exceptions.ClientConnectorCertificateError: Cannot connect to host storage.googleapis.com:443 ssl:True [SSLCertVerificationError: (1, '[SSL: CERTIFICATE_VERIFY_FAILED] certificate verify failed: unable to get local issuer certificate (_ssl.c:1006)')]\n"
     ]
    }
   ],
   "source": [
    "import xarray as xr\n",
    "kwargs = {\"storage_options\": {\"token\": \"anon\"}}\n",
    "test = xr.open_zarr('gs://noaa-ufs-gefsv13replay/ufs-hr1/0.25-degree-subsampled/06h-freq/zarr/fv3.fvstatistics.trop16.1993-2019/mean_by_level.zarr', **kwargs)"
   ]
  },
  {
   "cell_type": "code",
   "execution_count": 2,
   "id": "124789eb-bb8b-43d6-bffe-c46026e9636f",
   "metadata": {},
   "outputs": [],
   "source": [
    "gufs = CP1Emulator()"
   ]
  },
  {
   "cell_type": "code",
   "execution_count": 3,
   "id": "a6c3f73a-6a8c-46ff-ab96-ca63513de8d9",
   "metadata": {
    "tags": []
   },
   "outputs": [
    {
     "ename": "ValueError",
     "evalue": "dictionary update sequence element #0 has length 4; 2 is required",
     "output_type": "error",
     "traceback": [
      "\u001b[0;31m---------------------------------------------------------------------------\u001b[0m",
      "\u001b[0;31mValueError\u001b[0m                                Traceback (most recent call last)",
      "Cell \u001b[0;32mIn[3], line 1\u001b[0m\n\u001b[0;32m----> 1\u001b[0m tds \u001b[38;5;241m=\u001b[39m \u001b[43mDataset\u001b[49m\u001b[43m(\u001b[49m\u001b[43mgufs\u001b[49m\u001b[43m,\u001b[49m\u001b[43m \u001b[49m\u001b[43mmode\u001b[49m\u001b[38;5;241;43m=\u001b[39;49m\u001b[38;5;124;43m\"\u001b[39;49m\u001b[38;5;124;43mtraining\u001b[39;49m\u001b[38;5;124;43m\"\u001b[39;49m\u001b[43m)\u001b[49m\n",
      "File \u001b[0;32m/pscratch/sd/n/nagarwal/graph-ufs/graphufs/datasets.py:53\u001b[0m, in \u001b[0;36mDataset.__init__\u001b[0;34m(self, emulator, mode, preload_batch, input_chunks, target_chunks)\u001b[0m\n\u001b[1;32m     51\u001b[0m \u001b[38;5;28;01mif\u001b[39;00m \u001b[38;5;124m\"\u001b[39m\u001b[38;5;124mz_l\u001b[39m\u001b[38;5;124m\"\u001b[39m \u001b[38;5;129;01min\u001b[39;00m xds\u001b[38;5;241m.\u001b[39mdims:\n\u001b[1;32m     52\u001b[0m     input_dims[\u001b[38;5;124m\"\u001b[39m\u001b[38;5;124mz_l\u001b[39m\u001b[38;5;124m\"\u001b[39m] \u001b[38;5;241m=\u001b[39m \u001b[38;5;28mlen\u001b[39m(xds[\u001b[38;5;124m\"\u001b[39m\u001b[38;5;124mz_l\u001b[39m\u001b[38;5;124m\"\u001b[39m])\n\u001b[0;32m---> 53\u001b[0m \u001b[38;5;28mself\u001b[39m\u001b[38;5;241m.\u001b[39msample_generator \u001b[38;5;241m=\u001b[39m \u001b[43mBatchGenerator\u001b[49m\u001b[43m(\u001b[49m\n\u001b[1;32m     54\u001b[0m \u001b[43m    \u001b[49m\u001b[43mds\u001b[49m\u001b[38;5;241;43m=\u001b[39;49m\u001b[43mxds\u001b[49m\u001b[43m,\u001b[49m\n\u001b[1;32m     55\u001b[0m \u001b[43m    \u001b[49m\u001b[43minput_dims\u001b[49m\u001b[38;5;241;43m=\u001b[39;49m\u001b[43minput_dims\u001b[49m\u001b[43m,\u001b[49m\n\u001b[1;32m     56\u001b[0m \u001b[43m    \u001b[49m\u001b[43minput_overlap\u001b[49m\u001b[38;5;241;43m=\u001b[39;49m\u001b[43m{\u001b[49m\n\u001b[1;32m     57\u001b[0m \u001b[43m        \u001b[49m\u001b[38;5;124;43m\"\u001b[39;49m\u001b[38;5;124;43mdatetime\u001b[39;49m\u001b[38;5;124;43m\"\u001b[39;49m\u001b[43m:\u001b[49m\u001b[43m \u001b[49m\u001b[43memulator\u001b[49m\u001b[38;5;241;43m.\u001b[39;49m\u001b[43mn_forecast\u001b[49m\u001b[38;5;241;43m-\u001b[39;49m\u001b[38;5;241;43m1\u001b[39;49m\u001b[43m,\u001b[49m\n\u001b[1;32m     58\u001b[0m \u001b[43m    \u001b[49m\u001b[43m}\u001b[49m\u001b[43m,\u001b[49m\n\u001b[1;32m     59\u001b[0m \u001b[43m    \u001b[49m\u001b[43mpreload_batch\u001b[49m\u001b[38;5;241;43m=\u001b[39;49m\u001b[43mpreload_batch\u001b[49m\u001b[43m,\u001b[49m\n\u001b[1;32m     60\u001b[0m \u001b[43m\u001b[49m\u001b[43m)\u001b[49m\n",
      "File \u001b[0;32m~/.conda/envs/graphufs/lib/python3.11/site-packages/xbatcher/generators.py:436\u001b[0m, in \u001b[0;36mBatchGenerator.__init__\u001b[0;34m(self, ds, input_dims, input_overlap, batch_dims, concat_input_dims, preload_batch, cache, cache_preprocess)\u001b[0m\n\u001b[1;32m    433\u001b[0m \u001b[38;5;28mself\u001b[39m\u001b[38;5;241m.\u001b[39mcache \u001b[38;5;241m=\u001b[39m cache\n\u001b[1;32m    434\u001b[0m \u001b[38;5;28mself\u001b[39m\u001b[38;5;241m.\u001b[39mcache_preprocess \u001b[38;5;241m=\u001b[39m cache_preprocess\n\u001b[0;32m--> 436\u001b[0m \u001b[38;5;28mself\u001b[39m\u001b[38;5;241m.\u001b[39m_batch_selectors: BatchSchema \u001b[38;5;241m=\u001b[39m \u001b[43mBatchSchema\u001b[49m\u001b[43m(\u001b[49m\n\u001b[1;32m    437\u001b[0m \u001b[43m    \u001b[49m\u001b[43mds\u001b[49m\u001b[43m,\u001b[49m\n\u001b[1;32m    438\u001b[0m \u001b[43m    \u001b[49m\u001b[43minput_dims\u001b[49m\u001b[38;5;241;43m=\u001b[39;49m\u001b[43minput_dims\u001b[49m\u001b[43m,\u001b[49m\n\u001b[1;32m    439\u001b[0m \u001b[43m    \u001b[49m\u001b[43minput_overlap\u001b[49m\u001b[38;5;241;43m=\u001b[39;49m\u001b[43minput_overlap\u001b[49m\u001b[43m,\u001b[49m\n\u001b[1;32m    440\u001b[0m \u001b[43m    \u001b[49m\u001b[43mbatch_dims\u001b[49m\u001b[38;5;241;43m=\u001b[39;49m\u001b[43mbatch_dims\u001b[49m\u001b[43m,\u001b[49m\n\u001b[1;32m    441\u001b[0m \u001b[43m    \u001b[49m\u001b[43mconcat_input_bins\u001b[49m\u001b[38;5;241;43m=\u001b[39;49m\u001b[43mconcat_input_dims\u001b[49m\u001b[43m,\u001b[49m\n\u001b[1;32m    442\u001b[0m \u001b[43m    \u001b[49m\u001b[43mpreload_batch\u001b[49m\u001b[38;5;241;43m=\u001b[39;49m\u001b[43mpreload_batch\u001b[49m\u001b[43m,\u001b[49m\n\u001b[1;32m    443\u001b[0m \u001b[43m\u001b[49m\u001b[43m)\u001b[49m\n",
      "File \u001b[0;32m~/.conda/envs/graphufs/lib/python3.11/site-packages/xbatcher/generators.py:69\u001b[0m, in \u001b[0;36mBatchSchema.__init__\u001b[0;34m(self, ds, input_dims, input_overlap, batch_dims, concat_input_bins, preload_batch)\u001b[0m\n\u001b[1;32m     67\u001b[0m \u001b[38;5;28;01mif\u001b[39;00m batch_dims \u001b[38;5;129;01mis\u001b[39;00m \u001b[38;5;28;01mNone\u001b[39;00m:\n\u001b[1;32m     68\u001b[0m     batch_dims \u001b[38;5;241m=\u001b[39m {}\n\u001b[0;32m---> 69\u001b[0m \u001b[38;5;28mself\u001b[39m\u001b[38;5;241m.\u001b[39minput_dims \u001b[38;5;241m=\u001b[39m \u001b[38;5;28;43mdict\u001b[39;49m\u001b[43m(\u001b[49m\u001b[43minput_dims\u001b[49m\u001b[43m)\u001b[49m\n\u001b[1;32m     70\u001b[0m \u001b[38;5;28mself\u001b[39m\u001b[38;5;241m.\u001b[39minput_overlap \u001b[38;5;241m=\u001b[39m input_overlap\n\u001b[1;32m     71\u001b[0m \u001b[38;5;28mself\u001b[39m\u001b[38;5;241m.\u001b[39mbatch_dims \u001b[38;5;241m=\u001b[39m \u001b[38;5;28mdict\u001b[39m(batch_dims)\n",
      "\u001b[0;31mValueError\u001b[0m: dictionary update sequence element #0 has length 4; 2 is required"
     ]
    }
   ],
   "source": [
    "tds = Dataset(gufs, mode=\"training\")"
   ]
  },
  {
   "cell_type": "code",
   "execution_count": null,
   "id": "ae426f71-9933-4520-aef6-43eb245499e4",
   "metadata": {},
   "outputs": [],
   "source": []
  }
 ],
 "metadata": {
  "kernelspec": {
   "display_name": "graphufs-mpi",
   "language": "python",
   "name": "graphufs-mpi"
  },
  "language_info": {
   "codemirror_mode": {
    "name": "ipython",
    "version": 3
   },
   "file_extension": ".py",
   "mimetype": "text/x-python",
   "name": "python",
   "nbconvert_exporter": "python",
   "pygments_lexer": "ipython3",
   "version": "3.11.11"
  }
 },
 "nbformat": 4,
 "nbformat_minor": 5
}
